{
 "cells": [
  {
   "cell_type": "markdown",
   "metadata": {
    "id": "I9DGMURQ9uaN"
   },
   "source": [
    "### Strings\n",
    "Podemos pensar los strings como una **secuencia de caracteres**. Se distingue entre mayúsculas y minúsculas.\n",
    "\n",
    "Se utilizan comillas simples o comillas dobles para definir un string. Las comillas triples nos permiten definir strings a lo largo de múltiples lineas.\n",
    "\n",
    "No hay diferencia entre las comillas simples (') y las dobles (\"). Pero el mismo tipo de comillas que se usó para abrir debe usarse para cerrar.\n"
   ]
  },
  {
   "cell_type": "code",
   "execution_count": 1,
   "metadata": {
    "id": "9XUtHxKs_HTc"
   },
   "outputs": [
    {
     "name": "stdout",
     "output_type": "stream",
     "text": [
      "\n",
      "había una vez un rey...\n",
      "el rey se fue de viaje\n",
      "volvió muchos años después\n",
      "\n"
     ]
    }
   ],
   "source": [
    "texto = '''\n",
    "había una vez un rey...\n",
    "el rey se fue de viaje\n",
    "volvió muchos años después\n",
    "'''\n",
    "print(texto)"
   ]
  },
  {
   "cell_type": "code",
   "execution_count": 2,
   "metadata": {
    "id": "DeeH3QTI_TaP"
   },
   "outputs": [
    {
     "name": "stdout",
     "output_type": "stream",
     "text": [
      "False\n"
     ]
    }
   ],
   "source": [
    "nombre1 = 'laura'\n",
    "nombre2 = 'Laura'\n",
    "print(nombre1 == nombre2)"
   ]
  },
  {
   "cell_type": "code",
   "execution_count": 4,
   "metadata": {
    "id": "5QtK2riR_99K"
   },
   "outputs": [
    {
     "name": "stdout",
     "output_type": "stream",
     "text": [
      "6\n",
      "16\n"
     ]
    }
   ],
   "source": [
    "# Número de caracteres en un string\n",
    "nombre = \"Jimena\"\n",
    "nombre_apellido = \"Jimena Gonzales\\n\"\n",
    "n1 = len(nombre)\n",
    "print(n1)\n",
    "n2 = len(nombre_apellido)\n",
    "print(n2)"
   ]
  },
  {
   "cell_type": "markdown",
   "metadata": {
    "id": "XcHbs6RMCKqL"
   },
   "source": [
    "**len()** una de las [funciones integradas](https://docs.python.org/es/3/library/functions.html)\n",
    "\n",
    "pertenece a la biblioteca estándar de python"
   ]
  },
  {
   "cell_type": "markdown",
   "metadata": {
    "id": "_BPugiuLDPAr"
   },
   "source": [
    "### Indexación de strings\n",
    "usamos '[ ]' (corchetes rectangulares) para obtener el caracter en una posición o indice específico de la cadena. \n",
    "\n",
    "Los índices empiezan a contarse desde 0. Índices negativos especifican posiciones respecto al final de la cadena"
   ]
  },
  {
   "cell_type": "code",
   "execution_count": 6,
   "metadata": {
    "colab": {
     "base_uri": "https://localhost:8080/"
    },
    "executionInfo": {
     "elapsed": 8,
     "status": "ok",
     "timestamp": 1657892872857,
     "user": {
      "displayName": "Diana Carolina VERTIZ DEL VALLE",
      "userId": "04236681262725283456"
     },
     "user_tz": 180
    },
    "id": "yaLsYJypBd5B",
    "outputId": "f253c41a-5231-4b9d-b79f-f877e2d24880"
   },
   "outputs": [
    {
     "name": "stdout",
     "output_type": "stream",
     "text": [
      "10\n",
      "e\n",
      "u\n",
      "a\n",
      "e\n",
      "n\n"
     ]
    }
   ],
   "source": [
    "variable_str = \"estudiante\"\n",
    "print(len(variable_str))\n",
    "print(variable_str[0])\n",
    "print(variable_str[3])\n",
    "print(variable_str[6])\n",
    "print(variable_str[-1])\n",
    "print(variable_str[-3])"
   ]
  },
  {
   "cell_type": "markdown",
   "metadata": {
    "id": "Z0QfQoyPGbXQ"
   },
   "source": [
    "¿Qué sucede si intento variable_str[20]?"
   ]
  },
  {
   "cell_type": "code",
   "execution_count": 7,
   "metadata": {
    "id": "gRuaZkpfEyQH"
   },
   "outputs": [
    {
     "ename": "IndexError",
     "evalue": "string index out of range",
     "output_type": "error",
     "traceback": [
      "\u001b[1;31m---------------------------------------------------------------------------\u001b[0m",
      "\u001b[1;31mIndexError\u001b[0m                                Traceback (most recent call last)",
      "\u001b[1;32m~\\AppData\\Local\\Temp/ipykernel_3360/2218386964.py\u001b[0m in \u001b[0;36m<module>\u001b[1;34m\u001b[0m\n\u001b[1;32m----> 1\u001b[1;33m \u001b[0mvariable_str\u001b[0m\u001b[1;33m[\u001b[0m\u001b[1;36m20\u001b[0m\u001b[1;33m]\u001b[0m\u001b[1;33m\u001b[0m\u001b[1;33m\u001b[0m\u001b[0m\n\u001b[0m",
      "\u001b[1;31mIndexError\u001b[0m: string index out of range"
     ]
    }
   ],
   "source": [
    "variable_str[20]"
   ]
  },
  {
   "cell_type": "markdown",
   "metadata": {
    "id": "V3g_rhh0Pwxa"
   },
   "source": [
    "### Slicing de strings\n",
    "Para obtener sub-cadenas de caracteres o algunos caracteres de la cadena.\n",
    "- usamos **[start : stop : step]**\n",
    "- por defecto **step = 1, start = 0 y stop = len(s)**"
   ]
  },
  {
   "cell_type": "code",
   "execution_count": 8,
   "metadata": {
    "colab": {
     "base_uri": "https://localhost:8080/"
    },
    "executionInfo": {
     "elapsed": 261,
     "status": "ok",
     "timestamp": 1657972471311,
     "user": {
      "displayName": "Diana Carolina VERTIZ DEL VALLE",
      "userId": "04236681262725283456"
     },
     "user_tz": 180
    },
    "id": "uBjkwl-ePj3e",
    "outputId": "260cd890-b17a-467e-f459-59c63f56a711"
   },
   "outputs": [
    {
     "name": "stdout",
     "output_type": "stream",
     "text": [
      "defghi\n",
      "def\n",
      "dfh\n",
      "abcdefghi\n",
      "ihgfedcba\n",
      "ec\n"
     ]
    }
   ],
   "source": [
    "cadena = \"abcdefghi\"\n",
    "print(cadena[3:])\n",
    "print(cadena[3:6])\n",
    "print(cadena[3:9:2])\n",
    "print(cadena[::])     # cadena[0:len(cadena):1]\n",
    "print(cadena[::-1])   # cadena[-1:-(len(cadena)):-1]\n",
    "print(cadena[4:1:-2])"
   ]
  },
  {
   "cell_type": "markdown",
   "metadata": {
    "id": "VZCp8Anr3QNY"
   },
   "source": [
    "### Los strings son inmutables:\n",
    "Esto quiere decir que una vez creado un objeto de tipo string, el mismo no puede ser modificado.\n",
    "\n",
    "\n",
    "<img src='https://drive.google.com/uc?id=1-XzyMaLg1ugyiCpXA5OgiNoerdC1B_ez' width=\"600\">\n"
   ]
  },
  {
   "cell_type": "code",
   "execution_count": 9,
   "metadata": {
    "id": "8PB-jF7kDsOW"
   },
   "outputs": [
    {
     "ename": "TypeError",
     "evalue": "'str' object does not support item assignment",
     "output_type": "error",
     "traceback": [
      "\u001b[1;31m---------------------------------------------------------------------------\u001b[0m",
      "\u001b[1;31mTypeError\u001b[0m                                 Traceback (most recent call last)",
      "\u001b[1;32m~\\AppData\\Local\\Temp/ipykernel_3360/1933257428.py\u001b[0m in \u001b[0;36m<module>\u001b[1;34m\u001b[0m\n\u001b[0;32m      1\u001b[0m \u001b[0ms\u001b[0m \u001b[1;33m=\u001b[0m \u001b[1;34m\"nombre\"\u001b[0m\u001b[1;33m\u001b[0m\u001b[1;33m\u001b[0m\u001b[0m\n\u001b[1;32m----> 2\u001b[1;33m \u001b[0ms\u001b[0m\u001b[1;33m[\u001b[0m\u001b[1;36m0\u001b[0m\u001b[1;33m]\u001b[0m \u001b[1;33m=\u001b[0m \u001b[1;34m'h'\u001b[0m\u001b[1;33m\u001b[0m\u001b[1;33m\u001b[0m\u001b[0m\n\u001b[0m",
      "\u001b[1;31mTypeError\u001b[0m: 'str' object does not support item assignment"
     ]
    }
   ],
   "source": [
    "s = \"nombre\"\n",
    "s[0] = 'h'"
   ]
  },
  {
   "cell_type": "markdown",
   "metadata": {
    "id": "KfYB-xP5J-v5"
   },
   "source": [
    "### Métodos de cadenas de caracteres \n",
    "\n",
    "Los objetos de tipo string poseen muchos [métodos](https://docs.python.org/es/3/library/stdtypes.html#string-methods) útiles.\n",
    "\n",
    "- s.endswith(suffix) ⇒ Verifica si termina con el sufijo\n",
    "- s.find(t)&nbsp; &nbsp; &nbsp; &nbsp; ⇒Primera aparición de t en s (o -1 si no está)\n",
    "- s.index(t)&nbsp; &nbsp; &nbsp; ⇒ Primera aparición de t en s (error si no está)\n",
    "- s.isalpha()&nbsp;&nbsp;&nbsp; ⇒ Verifica si los caracteres son alfabéticos\n",
    "- s.isdigit()&nbsp; &nbsp; &nbsp; ⇒ Verifica si los caracteres son numéricos\n",
    "- s.islower()&nbsp; &nbsp;&nbsp; ⇒ Verifica si los caracteres son minúsculas\n",
    "- s.isupper()&nbsp; &nbsp;&nbsp; ⇒ Verifica si los caracteres son mayúsculas\n",
    "- s.join(slist)&nbsp;&nbsp;&nbsp; ⇒ Une una lista de cadenas usando s como delimitador\n",
    "- s.lower()&nbsp; &nbsp; &nbsp; &nbsp; ⇒ Convertir a minúsculas\n",
    "- s.replace(old,new)&nbsp;&nbsp;⇒ Reemplaza texto\n",
    "- s.split([delim])&nbsp; &nbsp; &nbsp; &nbsp;&nbsp; ⇒ Parte la cadena en subcadenas\n",
    "- s.startswith(prefix)&nbsp;⇒ Verifica si comienza con un prefijo\n",
    "- s.strip()&nbsp; &nbsp; &nbsp;&nbsp; ⇒ Elimina espacios en blanco al inicio o al final\n",
    "- s.upper()&nbsp; &nbsp;&nbsp; ⇒ Convierte a mayúsculas"
   ]
  },
  {
   "cell_type": "code",
   "execution_count": 12,
   "metadata": {
    "colab": {
     "base_uri": "https://localhost:8080/"
    },
    "executionInfo": {
     "elapsed": 246,
     "status": "ok",
     "timestamp": 1657989495853,
     "user": {
      "displayName": "Diana Carolina VERTIZ DEL VALLE",
      "userId": "04236681262725283456"
     },
     "user_tz": 180
    },
    "id": "RAi5DMoWJo0E",
    "outputId": "1e92baa5-7db0-4333-93b3-b25a50c0e9a4"
   },
   "outputs": [
    {
     "name": "stdout",
     "output_type": "stream",
     "text": [
      "__Hello__\n",
      "Hello\n"
     ]
    }
   ],
   "source": [
    "cadena = '__Hello__'\n",
    "nueva_cadena = cadena.strip('_')\n",
    "print(cadena)\n",
    "print(nueva_cadena)"
   ]
  },
  {
   "cell_type": "code",
   "execution_count": 15,
   "metadata": {
    "colab": {
     "base_uri": "https://localhost:8080/"
    },
    "executionInfo": {
     "elapsed": 6,
     "status": "ok",
     "timestamp": 1657989736527,
     "user": {
      "displayName": "Diana Carolina VERTIZ DEL VALLE",
      "userId": "04236681262725283456"
     },
     "user_tz": 180
    },
    "id": "PqRsAgB0Ne2h",
    "outputId": "cec4914d-d211-4462-ab56-23649402ab8e"
   },
   "outputs": [
    {
     "name": "stdout",
     "output_type": "stream",
     "text": [
      "hello\n",
      "HELLO\n",
      "Diana_carolina\n",
      "Diana_Carolina\n"
     ]
    }
   ],
   "source": [
    "cadena = 'Hello'\n",
    "nombre = 'diana_carolina'\n",
    "minusculas = cadena.lower()     # 'hello'\n",
    "mayusculas = cadena.upper()     # 'HELLO'\n",
    "nuevo_nombre = nombre.capitalize()\n",
    "nuevo_nombre2 = nombre.title()\n",
    "print(minusculas)\n",
    "print(mayusculas)\n",
    "print(nuevo_nombre)\n",
    "print(nuevo_nombre2)"
   ]
  },
  {
   "cell_type": "code",
   "execution_count": 17,
   "metadata": {
    "colab": {
     "base_uri": "https://localhost:8080/"
    },
    "executionInfo": {
     "elapsed": 253,
     "status": "ok",
     "timestamp": 1657989859904,
     "user": {
      "displayName": "Diana Carolina VERTIZ DEL VALLE",
      "userId": "04236681262725283456"
     },
     "user_tz": 180
    },
    "id": "HaPOgzxs4S3B",
    "outputId": "58fcda88-e240-49bd-9c21-35e354777ea5"
   },
   "outputs": [
    {
     "name": "stdout",
     "output_type": "stream",
     "text": [
      "Hello world\n",
      "Hello-world\n"
     ]
    }
   ],
   "source": [
    "cadena = 'Hello world'\n",
    "nueva_cadena = cadena.replace(' ' , '-')\n",
    "print(cadena)\n",
    "print(nueva_cadena)"
   ]
  },
  {
   "cell_type": "markdown",
   "metadata": {
    "id": "x4g1d1ww56Ec"
   },
   "source": [
    "### Retomando bucles for ...\n",
    "Los bucles **for** se pueden utilizar para iterar cualquier secuencia, no solo una secuencia de números (range()). Podemos usarlos para iterar strings."
   ]
  },
  {
   "cell_type": "code",
   "execution_count": 18,
   "metadata": {
    "colab": {
     "base_uri": "https://localhost:8080/"
    },
    "executionInfo": {
     "elapsed": 243,
     "status": "ok",
     "timestamp": 1657990572933,
     "user": {
      "displayName": "Diana Carolina VERTIZ DEL VALLE",
      "userId": "04236681262725283456"
     },
     "user_tz": 180
    },
    "id": "qpBYFQvO5Ybl",
    "outputId": "6a6abd2c-e0e8-4205-c1b5-0100559df0b0"
   },
   "outputs": [
    {
     "name": "stdout",
     "output_type": "stream",
     "text": [
      "aparece el caracter i\n",
      "aparece el caracter i\n",
      "aparece el caracter i\n",
      "aparece el caracter i\n",
      "aparece el caracter i\n",
      "aparece el caracter i\n"
     ]
    }
   ],
   "source": [
    "cadena = \"supercalifragilisticoespialidoso\"\n",
    "#print(len(cadena)) #32\n",
    "n = len(cadena)\n",
    "for indice in range(n):\n",
    "    if cadena[indice] == 'i':\n",
    "        print('aparece el caracter i')"
   ]
  },
  {
   "cell_type": "code",
   "execution_count": 19,
   "metadata": {
    "colab": {
     "base_uri": "https://localhost:8080/"
    },
    "executionInfo": {
     "elapsed": 246,
     "status": "ok",
     "timestamp": 1657990569413,
     "user": {
      "displayName": "Diana Carolina VERTIZ DEL VALLE",
      "userId": "04236681262725283456"
     },
     "user_tz": 180
    },
    "id": "fsqjfKo67khm",
    "outputId": "0e745b21-d34d-4d4d-91bb-e43051ef6c05"
   },
   "outputs": [
    {
     "name": "stdout",
     "output_type": "stream",
     "text": [
      "aparece el caracter i\n",
      "aparece el caracter i\n",
      "aparece el caracter i\n",
      "aparece el caracter i\n",
      "aparece el caracter i\n",
      "aparece el caracter i\n"
     ]
    }
   ],
   "source": [
    "for caracter in cadena:\n",
    "    if caracter == 'i':\n",
    "        print('aparece el caracter i')"
   ]
  },
  {
   "cell_type": "code",
   "execution_count": null,
   "metadata": {
    "id": "KQFZrJbC8FpL"
   },
   "outputs": [],
   "source": []
  }
 ],
 "metadata": {
  "colab": {
   "authorship_tag": "ABX9TyPb5Wgz5bkOFRGlAcHTM4UH",
   "collapsed_sections": [],
   "name": "3-Strings.ipynb",
   "provenance": []
  },
  "kernelspec": {
   "display_name": "Python 3 (ipykernel)",
   "language": "python",
   "name": "python3"
  },
  "language_info": {
   "codemirror_mode": {
    "name": "ipython",
    "version": 3
   },
   "file_extension": ".py",
   "mimetype": "text/x-python",
   "name": "python",
   "nbconvert_exporter": "python",
   "pygments_lexer": "ipython3",
   "version": "3.9.7"
  }
 },
 "nbformat": 4,
 "nbformat_minor": 4
}
