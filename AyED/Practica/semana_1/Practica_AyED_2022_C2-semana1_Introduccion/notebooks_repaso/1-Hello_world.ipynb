{
 "cells": [
  {
   "cell_type": "markdown",
   "metadata": {
    "id": "dhC8Yi17F_zI"
   },
   "source": [
    "### Mostramos mensajes por consola\n",
    "\n",
    "las comillas (**\" \"**) indican el tipo de dato _string_ (cadena de caracteres) estos caracteres pueden ser letras, espacios, dígitos o caracteres especiales"
   ]
  },
  {
   "cell_type": "code",
   "execution_count": 4,
   "metadata": {
    "colab": {
     "base_uri": "https://localhost:8080/"
    },
    "executionInfo": {
     "elapsed": 6,
     "status": "ok",
     "timestamp": 1659441478322,
     "user": {
      "displayName": "Diana Carolina VERTIZ DEL VALLE",
      "userId": "04236681262725283456"
     },
     "user_tz": 180
    },
    "id": "kHSux9zBGM7W",
    "outputId": "6f74c512-ef69-4744-b62f-88b85653f2c1"
   },
   "outputs": [
    {
     "name": "stdout",
     "output_type": "stream",
     "text": [
      "Hola Mundo\n"
     ]
    }
   ],
   "source": [
    "print('Hola Mundo')"
   ]
  },
  {
   "cell_type": "markdown",
   "metadata": {
    "id": "55J2oXDSJ8cj"
   },
   "source": [
    "podemos asignar el valor de un objeto de tipo string a una variable con nombre específico.\n"
   ]
  },
  {
   "cell_type": "code",
   "execution_count": 5,
   "metadata": {
    "id": "LIOryBgBGgbr"
   },
   "outputs": [
    {
     "name": "stdout",
     "output_type": "stream",
     "text": [
      "<class 'str'>\n"
     ]
    }
   ],
   "source": [
    "hola = \"Buen día\"\n",
    "nombre = \"Diana\"\n",
    "print(type(hola))"
   ]
  },
  {
   "cell_type": "markdown",
   "metadata": {
    "id": "F_6DwXBTMdJ1"
   },
   "source": [
    "podemos ***concatenar*** strings usando el signo '+'"
   ]
  },
  {
   "cell_type": "code",
   "execution_count": 6,
   "metadata": {
    "colab": {
     "base_uri": "https://localhost:8080/"
    },
    "executionInfo": {
     "elapsed": 282,
     "status": "ok",
     "timestamp": 1659441601970,
     "user": {
      "displayName": "Diana Carolina VERTIZ DEL VALLE",
      "userId": "04236681262725283456"
     },
     "user_tz": 180
    },
    "id": "XQlReV60LjA7",
    "outputId": "474a0d5a-50da-42da-ca03-b3718f42207f"
   },
   "outputs": [
    {
     "name": "stdout",
     "output_type": "stream",
     "text": [
      "Buen díaDiana\n"
     ]
    }
   ],
   "source": [
    "saludo = hola + nombre  \n",
    "print(saludo)"
   ]
  },
  {
   "cell_type": "code",
   "execution_count": 7,
   "metadata": {
    "colab": {
     "base_uri": "https://localhost:8080/"
    },
    "executionInfo": {
     "elapsed": 260,
     "status": "ok",
     "timestamp": 1659441638585,
     "user": {
      "displayName": "Diana Carolina VERTIZ DEL VALLE",
      "userId": "04236681262725283456"
     },
     "user_tz": 180
    },
    "id": "tZVQ-0JNIUF7",
    "outputId": "b0df71db-53c0-43cc-f54c-afd90faf78a6"
   },
   "outputs": [
    {
     "name": "stdout",
     "output_type": "stream",
     "text": [
      "Buen día Diana\n"
     ]
    }
   ],
   "source": [
    "saludo_2 = hola + ' ' + nombre\n",
    "print(saludo_2)"
   ]
  },
  {
   "cell_type": "code",
   "execution_count": 8,
   "metadata": {
    "id": "VBzhW6QmNE3K"
   },
   "outputs": [
    {
     "name": "stdout",
     "output_type": "stream",
     "text": [
      "Buen día Diana Diana Diana\n"
     ]
    }
   ],
   "source": [
    "saludo_3 = hola + (\" \" + nombre)*3\n",
    "print(saludo_3)"
   ]
  },
  {
   "cell_type": "markdown",
   "metadata": {
    "id": "WRwn7917OwMr"
   },
   "source": [
    "Algo más sobre la función print()"
   ]
  },
  {
   "cell_type": "code",
   "execution_count": 10,
   "metadata": {
    "colab": {
     "base_uri": "https://localhost:8080/"
    },
    "executionInfo": {
     "elapsed": 406,
     "status": "ok",
     "timestamp": 1657827891060,
     "user": {
      "displayName": "Diana Carolina VERTIZ DEL VALLE",
      "userId": "04236681262725283456"
     },
     "user_tz": 180
    },
    "id": "ljX9kDalOh1x",
    "outputId": "facba978-a93f-441c-b4e2-125e9453be6a"
   },
   "outputs": [
    {
     "name": "stdout",
     "output_type": "stream",
     "text": [
      "mi color favorito es: amarillo\n",
      "mi color favorito es: amarillo\n"
     ]
    }
   ],
   "source": [
    "color = 'amarillo'\n",
    "print(\"mi color favorito es:\", color)\n",
    "print(\"mi color favorito es:\" + \" \" +color)"
   ]
  },
  {
   "cell_type": "code",
   "execution_count": 12,
   "metadata": {
    "colab": {
     "base_uri": "https://localhost:8080/"
    },
    "executionInfo": {
     "elapsed": 403,
     "status": "ok",
     "timestamp": 1657828022967,
     "user": {
      "displayName": "Diana Carolina VERTIZ DEL VALLE",
      "userId": "04236681262725283456"
     },
     "user_tz": 180
    },
    "id": "uy6iSKWUPvlo",
    "outputId": "974bdb75-1ddf-4a82-de0b-4dbfeef36e5c"
   },
   "outputs": [
    {
     "name": "stdout",
     "output_type": "stream",
     "text": [
      "mi número favorito es: 4\n",
      "mi número favorito es: 4\n"
     ]
    }
   ],
   "source": [
    "numero = 4\n",
    "print(\"mi número favorito es:\", numero)\n",
    "print(\"mi número favorito es: \" + str(numero))"
   ]
  },
  {
   "cell_type": "markdown",
   "metadata": {
    "id": "oMq04n3mNQz0"
   },
   "source": [
    "### Entrada de datos del usuario\n",
    "Usamos la función input() "
   ]
  },
  {
   "cell_type": "code",
   "execution_count": 13,
   "metadata": {
    "id": "kKkfm6XCQ1Kr"
   },
   "outputs": [
    {
     "name": "stdin",
     "output_type": "stream",
     "text": [
      "¿Cual es tu nombre?\n",
      " Diana\n"
     ]
    },
    {
     "data": {
      "text/plain": [
       "'Diana'"
      ]
     },
     "execution_count": 13,
     "metadata": {},
     "output_type": "execute_result"
    }
   ],
   "source": [
    "input(\"¿Cual es tu nombre?\\n\")"
   ]
  },
  {
   "cell_type": "code",
   "execution_count": 15,
   "metadata": {
    "id": "JNQhdmGMRN_5"
   },
   "outputs": [
    {
     "name": "stdin",
     "output_type": "stream",
     "text": [
      "¿Cual es tu nombre?:  Diana\n"
     ]
    },
    {
     "name": "stdout",
     "output_type": "stream",
     "text": [
      "Hola Diana!\n"
     ]
    }
   ],
   "source": [
    "nombre_usuario = input(\"¿Cual es tu nombre?: \")\n",
    "print(\"Hola\" + \" \" + nombre_usuario + \"!\")"
   ]
  },
  {
   "cell_type": "code",
   "execution_count": 17,
   "metadata": {
    "colab": {
     "base_uri": "https://localhost:8080/"
    },
    "executionInfo": {
     "elapsed": 5345,
     "status": "ok",
     "timestamp": 1657828948092,
     "user": {
      "displayName": "Diana Carolina VERTIZ DEL VALLE",
      "userId": "04236681262725283456"
     },
     "user_tz": 180
    },
    "id": "p-tez09FR3p4",
    "outputId": "11a8b8f0-bede-427b-c178-a6546bc618a7"
   },
   "outputs": [
    {
     "name": "stdin",
     "output_type": "stream",
     "text": [
      "ingrese un número:  23\n"
     ]
    },
    {
     "name": "stdout",
     "output_type": "stream",
     "text": [
      "33\n"
     ]
    }
   ],
   "source": [
    "numero_1 = 10\n",
    "numero_2 = input(\"ingrese un número: \")\n",
    "#print(type(numero_2))\n",
    "suma = numero_1 + int(numero_2)\n",
    "print(suma)"
   ]
  },
  {
   "cell_type": "markdown",
   "metadata": {
    "id": "4UY5rxoscMXc"
   },
   "source": [
    "### Operadores de comparación entre tipos de datos:\n",
    "En python existen tipos de datos primitivos o [tipos integrados](https://docs.python.org/es/3/library/stdtypes.html)\n",
    "\n",
    "Las comparaciones se evaluan retornando un valor booleano (True o False):\n",
    "\n",
    "Si i y j son nombres de variables del mismo tipo: \n",
    "\n",
    "$i > j$ → True si i mayor que j\n",
    "\n",
    "$i >= j$ \n",
    "\n",
    "$i < j$ → True si i menor que j\n",
    "\n",
    "$i <= j$ \n",
    "\n",
    "$i == j$ → igualdad. True si i igual a j\n",
    "\n",
    "$i \\space!= j$ → desigualdad\n",
    "\n",
    "### Operadores lógicos:\n",
    "Si a y b son variables con valores booleanos:\n",
    "\n",
    "**not** b → True si b es falso\n",
    "\n",
    "a **and** b → True si ambos son verdaderos\n",
    "\n",
    "a **or** b → True si alguno de los dos o ambos son verdaderos"
   ]
  },
  {
   "cell_type": "markdown",
   "metadata": {
    "id": "wG4jHw7rpVRA"
   },
   "source": [
    "### ¿Qué resulta de comparar 2 strings?"
   ]
  },
  {
   "cell_type": "code",
   "execution_count": 18,
   "metadata": {
    "id": "1tKGNaF7SxLP"
   },
   "outputs": [
    {
     "name": "stdout",
     "output_type": "stream",
     "text": [
      "False\n"
     ]
    }
   ],
   "source": [
    "print('abcde' > 'bcdef')"
   ]
  },
  {
   "cell_type": "markdown",
   "metadata": {
    "id": "zdwWLH4t0sIS"
   },
   "source": [
    "### f-strings python 3.6\n",
    "[f-strings](https://realpython.com/python-f-strings/#:~:text=Also%20called%20%E2%80%9Cformatted%20string%20literals,the%20__format__%20protocol.)"
   ]
  },
  {
   "cell_type": "code",
   "execution_count": 19,
   "metadata": {
    "id": "QJXmznQz0BP-"
   },
   "outputs": [
    {
     "name": "stdout",
     "output_type": "stream",
     "text": [
      "Tu edad es 29, tu altura es 1.56 y tu estado ganador es: True\n"
     ]
    }
   ],
   "source": [
    "edad = 29\n",
    "altura = 1.559\n",
    "gano = True\n",
    "print(f'Tu edad es {edad}, tu altura es {altura:.2f} y tu estado ganador es: {gano}')"
   ]
  }
 ],
 "metadata": {
  "colab": {
   "authorship_tag": "ABX9TyNcuZfAN0rFRD3IV5FBxoK/",
   "name": "1-Hello_world.ipynb",
   "provenance": []
  },
  "kernelspec": {
   "display_name": "Python 3 (ipykernel)",
   "language": "python",
   "name": "python3"
  },
  "language_info": {
   "codemirror_mode": {
    "name": "ipython",
    "version": 3
   },
   "file_extension": ".py",
   "mimetype": "text/x-python",
   "name": "python",
   "nbconvert_exporter": "python",
   "pygments_lexer": "ipython3",
   "version": "3.9.7"
  }
 },
 "nbformat": 4,
 "nbformat_minor": 4
}
