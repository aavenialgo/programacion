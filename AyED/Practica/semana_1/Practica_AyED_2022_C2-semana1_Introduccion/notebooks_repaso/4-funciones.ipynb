{
 "cells": [
  {
   "cell_type": "markdown",
   "metadata": {
    "id": "K73zjqF60Ut6"
   },
   "source": [
    "### Organizamos nuestro código usando **funciones**\n",
    "Podemos dividir nuestro programa en módulos que realicen una tarea específica, esto nos permitirá reutilizarlos en distintos lugares sin repetir código, manteniendo nuestro programa organizado."
   ]
  },
  {
   "cell_type": "code",
   "execution_count": 1,
   "metadata": {
    "id": "PM8OVFlA15us"
   },
   "outputs": [],
   "source": [
    "# definición de una función\n",
    "\n",
    "def suma_enteros(numero:int) -> int:\n",
    "    \"\"\"\n",
    "    Realiza la suma de números enteros en un rango y devuelve el resultado\n",
    "    numero : int, número entero positivo que especifica el rango para la suma\n",
    "    returns: int, retorna la suma de 1 hasta numero inclusive. \n",
    "    \"\"\"\n",
    "    suma = 0\n",
    "    for num in range(numero+1):\n",
    "        suma += num\n",
    "\n",
    "    return suma"
   ]
  },
  {
   "cell_type": "markdown",
   "metadata": {
    "id": "JXpsdysP5eLs"
   },
   "source": [
    "Si no se especifica retorno, python agrega el valor de retorno **\"None\"**, None es el valor del tipo de dato **\"NoneType\"**. \n",
    "Una función no se ejecuta hasta que es \"llamada\".\n",
    "Podemos repasar la idea de ámbito de una variable usando [pythontutor](https://pythontutor.com/visualize.html#mode=edit)"
   ]
  },
  {
   "cell_type": "code",
   "execution_count": 2,
   "metadata": {
    "id": "FFmQhm7D48Pn"
   },
   "outputs": [
    {
     "name": "stdout",
     "output_type": "stream",
     "text": [
      "10\n"
     ]
    }
   ],
   "source": [
    "numero = 4\n",
    "resultado = suma_enteros(numero)\n",
    "print(resultado)"
   ]
  },
  {
   "cell_type": "markdown",
   "metadata": {
    "id": "e5g2LPhYGNL6"
   },
   "source": [
    "En python las funciones son objetos que pueden pasarse como parámetros. Además, así como podemos anidar condicionales, podemos anidar bucles incluso funciones!: 😊"
   ]
  },
  {
   "cell_type": "code",
   "execution_count": 4,
   "metadata": {
    "id": "2lx_Y_cwAG4T"
   },
   "outputs": [],
   "source": [
    "def decir_hola(nombre):\n",
    "    return f\"Hola {nombre}\"\n",
    "\n",
    "def somos_geniales(nombre):\n",
    "    return f\"Che {nombre}, somos geniales juntos!\"\n",
    "\n",
    "def saludar_bob(func_saludo):\n",
    "    return func_saludo(\"Bob\")"
   ]
  },
  {
   "cell_type": "code",
   "execution_count": 5,
   "metadata": {
    "id": "If9MOSW72MmF"
   },
   "outputs": [
    {
     "name": "stdout",
     "output_type": "stream",
     "text": [
      "Hola Bob\n"
     ]
    }
   ],
   "source": [
    "print(saludar_bob(decir_hola))"
   ]
  },
  {
   "cell_type": "code",
   "execution_count": 6,
   "metadata": {
    "id": "UcoDK2VX2RqS"
   },
   "outputs": [
    {
     "name": "stdout",
     "output_type": "stream",
     "text": [
      "Che Bob, somos geniales juntos!\n"
     ]
    }
   ],
   "source": [
    "print(saludar_bob(somos_geniales))"
   ]
  },
  {
   "cell_type": "code",
   "execution_count": 10,
   "metadata": {},
   "outputs": [
    {
     "name": "stdout",
     "output_type": "stream",
     "text": [
      "<function decir_hola at 0x000002A31A13F700>\n"
     ]
    }
   ],
   "source": [
    "print(decir_hola)"
   ]
  },
  {
   "cell_type": "markdown",
   "metadata": {
    "id": "X_WQd0ez91UL"
   },
   "source": [
    "En el ejemplo anterior, las funciones **decir_hola** y **somos_geniales** se pasan como parámetros a la función **saludar_bob**."
   ]
  },
  {
   "cell_type": "code",
   "execution_count": 11,
   "metadata": {
    "id": "SZeOz8zx3NOi"
   },
   "outputs": [],
   "source": [
    "# funciones anidadas\n",
    "def funcion_padre():\n",
    "    print(\"mensaje de la función funcion_padre()\")\n",
    "\n",
    "    def primer_hijo():\n",
    "        print(\"salida de la función primer_hijo()\")\n",
    "\n",
    "    def segundo_hijo():\n",
    "        print(\"salida de la función segundo_hijo()\")\n",
    "\n",
    "    segundo_hijo()\n",
    "    primer_hijo()"
   ]
  },
  {
   "cell_type": "code",
   "execution_count": 12,
   "metadata": {
    "id": "oIJc6H6A7utc"
   },
   "outputs": [
    {
     "name": "stdout",
     "output_type": "stream",
     "text": [
      "mensaje de la función funcion_padre()\n",
      "salida de la función segundo_hijo()\n",
      "salida de la función primer_hijo()\n"
     ]
    }
   ],
   "source": [
    "funcion_padre()"
   ]
  },
  {
   "cell_type": "markdown",
   "metadata": {
    "id": "BaBWbtXn-WYG"
   },
   "source": [
    "Tener en cuenta que las funciones **primer_hijo** y **segundo_hijo** existen en el ámbito local de la **funcion_padre** por tanto no son accesibles desde el ámbito global"
   ]
  },
  {
   "cell_type": "markdown",
   "metadata": {
    "id": "fCIreF3TEodQ"
   },
   "source": [
    "Es distinto **hacer una llamada a la función** a retornar una **referencia de la función**\n",
    "\n",
    "Retornar una referencia nos permite acceder a una función que se encuentra dentro del ámbito de otra función."
   ]
  },
  {
   "cell_type": "code",
   "execution_count": 13,
   "metadata": {},
   "outputs": [
    {
     "ename": "NameError",
     "evalue": "name 'segundo_hijo' is not defined",
     "output_type": "error",
     "traceback": [
      "\u001b[1;31m---------------------------------------------------------------------------\u001b[0m",
      "\u001b[1;31mNameError\u001b[0m                                 Traceback (most recent call last)",
      "\u001b[1;32m~\\AppData\\Local\\Temp/ipykernel_14232/1148493492.py\u001b[0m in \u001b[0;36m<module>\u001b[1;34m\u001b[0m\n\u001b[1;32m----> 1\u001b[1;33m \u001b[0msegundo_hijo\u001b[0m\u001b[1;33m(\u001b[0m\u001b[1;33m)\u001b[0m\u001b[1;33m\u001b[0m\u001b[1;33m\u001b[0m\u001b[0m\n\u001b[0m",
      "\u001b[1;31mNameError\u001b[0m: name 'segundo_hijo' is not defined"
     ]
    }
   ],
   "source": [
    "segundo_hijo()"
   ]
  },
  {
   "cell_type": "code",
   "execution_count": 14,
   "metadata": {
    "id": "GNDpFuZk7zUe"
   },
   "outputs": [],
   "source": [
    "def funcion_padre(num):\n",
    "\n",
    "    def primer_hijo():\n",
    "        return \"salida de la función primer_hijo()\"\n",
    "\n",
    "    def segundo_hijo():\n",
    "        return \"salida de la función segundo_hijo()\"\n",
    "\n",
    "    if num == 1:\n",
    "        return primer_hijo\n",
    "    else:\n",
    "        return segundo_hijo    "
   ]
  },
  {
   "cell_type": "code",
   "execution_count": 15,
   "metadata": {
    "id": "H8-TgRBl8xfZ"
   },
   "outputs": [
    {
     "name": "stdout",
     "output_type": "stream",
     "text": [
      "<function funcion_padre.<locals>.primer_hijo at 0x000002A31A13FD30>\n"
     ]
    }
   ],
   "source": [
    "print(funcion_padre(1))"
   ]
  },
  {
   "cell_type": "code",
   "execution_count": 17,
   "metadata": {
    "id": "2KhJhBc59Fpe"
   },
   "outputs": [
    {
     "name": "stdout",
     "output_type": "stream",
     "text": [
      "salida de la función primer_hijo()\n"
     ]
    }
   ],
   "source": [
    "primero = funcion_padre(1)\n",
    "print(primero())"
   ]
  },
  {
   "cell_type": "markdown",
   "metadata": {
    "id": "MNjy0C6U_e75"
   },
   "source": [
    "### Decoradores  🎁 🎉🐍\n",
    "Vamos a utilizar lo que vimos hasta ahora sobre funciones para implementar decoradores para nuestras funciones"
   ]
  },
  {
   "cell_type": "code",
   "execution_count": 20,
   "metadata": {
    "id": "YbhjWxTo_50n"
   },
   "outputs": [],
   "source": [
    "def mi_decorador(func):\n",
    "    def wrapper_func():\n",
    "        print(\"Se realiza una acción antes de la función\")\n",
    "        func()\n",
    "        print(\"Se realiza una acción después de la función\")\n",
    "    return wrapper_func\n",
    "\n",
    "def mi_funcion():\n",
    "    print(\"Soy la función\")"
   ]
  },
  {
   "cell_type": "code",
   "execution_count": 21,
   "metadata": {},
   "outputs": [
    {
     "name": "stdout",
     "output_type": "stream",
     "text": [
      "Soy la función\n",
      "None\n"
     ]
    }
   ],
   "source": [
    "print(mi_funcion())"
   ]
  },
  {
   "cell_type": "code",
   "execution_count": 22,
   "metadata": {
    "id": "B6qzB-GGXBir"
   },
   "outputs": [],
   "source": [
    "# decorado de mi función\n",
    "mi_funcion = mi_decorador(mi_funcion)"
   ]
  },
  {
   "cell_type": "code",
   "execution_count": 23,
   "metadata": {
    "id": "pCQuOQ6kZ-R6"
   },
   "outputs": [
    {
     "name": "stdout",
     "output_type": "stream",
     "text": [
      "Se realiza una acción antes de la función\n",
      "Soy la función\n",
      "Se realiza una acción después de la función\n"
     ]
    }
   ],
   "source": [
    "mi_funcion()"
   ]
  },
  {
   "cell_type": "markdown",
   "metadata": {
    "id": "QydX90sXXqQN"
   },
   "source": [
    "Ahora **\"mi_funcion\"** es una referencia a la función interna **\"wrapper_func\"** de **\"mi_decorador\"**. Sin embargo, **\"wrapper_func\"** hace la llamada a la función **\"mi_funcion\"** original.\n",
    "\n",
    "De forma simple, un decorador recibe una función como parámetro, le agrega funcionalidades mediante una función **wrapper o envoltorio** y la retorna modificando su comportamiento. "
   ]
  },
  {
   "cell_type": "code",
   "execution_count": 24,
   "metadata": {
    "id": "hszk3gvnM_T-"
   },
   "outputs": [],
   "source": [
    "# decorado de mi función\n",
    "#mi_funcion = mi_decorador(mi_funcion)\n",
    "\n",
    "def mi_decorador(func):\n",
    "    def wrapper_func():\n",
    "        print(\"Se realiza una acción antes de la función\")\n",
    "        func()\n",
    "        print(\"Se realiza una acción después de la función\")\n",
    "    return wrapper_func\n",
    "\n",
    "@mi_decorador\n",
    "def mi_funcion():\n",
    "    print(\"Soy la función\")"
   ]
  },
  {
   "cell_type": "code",
   "execution_count": 25,
   "metadata": {
    "id": "W8PXjHY0dDd2"
   },
   "outputs": [
    {
     "name": "stdout",
     "output_type": "stream",
     "text": [
      "Se realiza una acción antes de la función\n",
      "Soy la función\n",
      "Se realiza una acción después de la función\n"
     ]
    }
   ],
   "source": [
    "mi_funcion()"
   ]
  },
  {
   "cell_type": "markdown",
   "metadata": {
    "id": "q28_8utbGdxH"
   },
   "source": [
    "### Generadores ⏭ ⏸ ⏭\n",
    "Son un tipo de función especial que nos devuelve un iterador \"perezoso\". Son objetos que nos permite iterar sobre elementos como hacemos con las cadenas pero sin tener todos esos elementos al mismo tiempo en memoria."
   ]
  },
  {
   "cell_type": "code",
   "execution_count": 26,
   "metadata": {
    "id": "dEYSrfbSGf5Y"
   },
   "outputs": [
    {
     "name": "stdout",
     "output_type": "stream",
     "text": [
      "range(0, 3)\n"
     ]
    }
   ],
   "source": [
    "print(range(3))"
   ]
  },
  {
   "cell_type": "code",
   "execution_count": 27,
   "metadata": {
    "id": "nfVufgRaGiIJ"
   },
   "outputs": [
    {
     "name": "stdout",
     "output_type": "stream",
     "text": [
      "0\n",
      "1\n",
      "2\n"
     ]
    }
   ],
   "source": [
    "for num in range(3):\n",
    "    print(num)"
   ]
  },
  {
   "cell_type": "code",
   "execution_count": 43,
   "metadata": {
    "id": "wC6t8oDuGxmc"
   },
   "outputs": [],
   "source": [
    "def frutas():\n",
    "    yield \"manzana\"\n",
    "    yield \"durazno\"\n",
    "    yield \"pera\"\n",
    "  \n",
    "gen = frutas()\n",
    "#next(gen)"
   ]
  },
  {
   "cell_type": "code",
   "execution_count": 45,
   "metadata": {},
   "outputs": [
    {
     "name": "stdout",
     "output_type": "stream",
     "text": [
      "<generator object frutas at 0x000002A31A15A0B0>\n"
     ]
    }
   ],
   "source": [
    "print(frutas())"
   ]
  },
  {
   "cell_type": "code",
   "execution_count": 32,
   "metadata": {},
   "outputs": [
    {
     "ename": "StopIteration",
     "evalue": "",
     "output_type": "error",
     "traceback": [
      "\u001b[1;31m---------------------------------------------------------------------------\u001b[0m",
      "\u001b[1;31mStopIteration\u001b[0m                             Traceback (most recent call last)",
      "\u001b[1;32m~\\AppData\\Local\\Temp/ipykernel_14232/4293081279.py\u001b[0m in \u001b[0;36m<module>\u001b[1;34m\u001b[0m\n\u001b[1;32m----> 1\u001b[1;33m \u001b[0mnext\u001b[0m\u001b[1;33m(\u001b[0m\u001b[0mgen\u001b[0m\u001b[1;33m)\u001b[0m\u001b[1;33m\u001b[0m\u001b[1;33m\u001b[0m\u001b[0m\n\u001b[0m",
      "\u001b[1;31mStopIteration\u001b[0m: "
     ]
    }
   ],
   "source": [
    "next(gen)"
   ]
  },
  {
   "cell_type": "code",
   "execution_count": 42,
   "metadata": {
    "id": "0J6wiEoWG7Qp"
   },
   "outputs": [],
   "source": [
    "for fruta in gen:\n",
    "    print(fruta)"
   ]
  },
  {
   "cell_type": "markdown",
   "metadata": {
    "id": "aFUc31OmG-Po"
   },
   "source": [
    "Los generadores son funciones que pueden pausarse y retomar su ejecución desde el lugar donde se pausaron."
   ]
  },
  {
   "cell_type": "code",
   "execution_count": 46,
   "metadata": {
    "id": "TwWQBbfRHEeD"
   },
   "outputs": [],
   "source": [
    "def frutas():\n",
    "    print(\"inicio del generador\")\n",
    "    yield \"manzana\"\n",
    "    yield \"durazno\"\n",
    "    print(\"después del durazno\")\n",
    "    yield \"pera\"\n",
    "  \n",
    "\n",
    "gen = frutas()"
   ]
  },
  {
   "cell_type": "code",
   "execution_count": 49,
   "metadata": {},
   "outputs": [
    {
     "name": "stdout",
     "output_type": "stream",
     "text": [
      "después del durazno\n"
     ]
    },
    {
     "data": {
      "text/plain": [
       "'pera'"
      ]
     },
     "execution_count": 49,
     "metadata": {},
     "output_type": "execute_result"
    }
   ],
   "source": [
    "next(gen)"
   ]
  }
 ],
 "metadata": {
  "colab": {
   "authorship_tag": "ABX9TyPZF5UeP5YEPto5WBS+Sd+t",
   "collapsed_sections": [],
   "name": "4-funciones.ipynb",
   "provenance": []
  },
  "kernelspec": {
   "display_name": "Python 3 (ipykernel)",
   "language": "python",
   "name": "python3"
  },
  "language_info": {
   "codemirror_mode": {
    "name": "ipython",
    "version": 3
   },
   "file_extension": ".py",
   "mimetype": "text/x-python",
   "name": "python",
   "nbconvert_exporter": "python",
   "pygments_lexer": "ipython3",
   "version": "3.9.7"
  }
 },
 "nbformat": 4,
 "nbformat_minor": 4
}
