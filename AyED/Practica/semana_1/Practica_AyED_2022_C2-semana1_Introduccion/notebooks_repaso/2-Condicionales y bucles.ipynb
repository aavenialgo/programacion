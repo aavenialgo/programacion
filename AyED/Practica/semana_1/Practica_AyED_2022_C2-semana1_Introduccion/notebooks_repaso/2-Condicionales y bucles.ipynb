{
 "cells": [
  {
   "cell_type": "markdown",
   "metadata": {
    "id": "kofwtAIzxVMt"
   },
   "source": [
    "### Expresiones Condicionales 🤔 ➡ ⤴ ⤵\n",
    "Las palabras clave if-else-elif nos permiten controlar el flujo de nuestros programas. Dependiendo del resultado de la \"condición\" se ejecuta o no un bloque de código.\n",
    "\n",
    "En python los bloques de código quedan definidos mediante indentación"
   ]
  },
  {
   "cell_type": "code",
   "execution_count": 1,
   "metadata": {
    "id": "4YKAx01Ly6Sw"
   },
   "outputs": [
    {
     "name": "stdout",
     "output_type": "stream",
     "text": [
      "Inicia el flujo del programa\n",
      "7 -> regulariza la materia \n",
      "Continúa el flujo del programa\n"
     ]
    }
   ],
   "source": [
    "print(\"Inicia el flujo del programa\")\n",
    "\n",
    "nota = 7\n",
    "\n",
    "if nota >= 6: # evalua la condición\n",
    "    #hacemos esto\n",
    "    print(f\"{nota} -> regulariza la materia \")  \n",
    "\n",
    "print(\"Continúa el flujo del programa\")"
   ]
  },
  {
   "cell_type": "markdown",
   "metadata": {
    "id": "Q6JCrMza1WU-"
   },
   "source": [
    "### Ahora quiero realizar una acción u otra dependiendo del resultado de la condición"
   ]
  },
  {
   "cell_type": "code",
   "execution_count": 2,
   "metadata": {
    "id": "K1ARCf9Jxa3a"
   },
   "outputs": [
    {
     "name": "stdout",
     "output_type": "stream",
     "text": [
      "5 -> no alcanza la regularidad\n",
      "bloque else\n",
      "Continúa el flujo del programa\n"
     ]
    }
   ],
   "source": [
    "nota = 5\n",
    "\n",
    "if nota >= 6: # evalua la condición\n",
    "    #hacemos esto\n",
    "    print(f\"{nota} -> regulariza la materia \")  \n",
    "    print(\"bloque if\")\n",
    "    \n",
    "else:\n",
    "    #hacemos esto otro\n",
    "    print(f\"{nota} -> no alcanza la regularidad\")\n",
    "    print(\"bloque else\")\n",
    "\n",
    "print(\"Continúa el flujo del programa\")"
   ]
  },
  {
   "cell_type": "markdown",
   "metadata": {
    "id": "TACl5Zq4GpyK"
   },
   "source": [
    "Podemos anidar condicionales"
   ]
  },
  {
   "cell_type": "code",
   "execution_count": 3,
   "metadata": {
    "id": "iwv1pC15yEKa"
   },
   "outputs": [
    {
     "name": "stdout",
     "output_type": "stream",
     "text": [
      "No alcanza la regularida por inasistencia\n"
     ]
    }
   ],
   "source": [
    "# si el alumno alcanza la nota de regularidad, debemos\n",
    "# fijarnos también que cumple con una asistencia mayor al 50%\n",
    "nota = 9\n",
    "asistencia = 40\n",
    "\n",
    "if nota >= 6: \n",
    "    if asistencia >= 50:\n",
    "        print(\"regulariza la materia \")  \n",
    "    else:\n",
    "        print(\"No alcanza la regularida por inasistencia\")\n",
    "else:    \n",
    "    print(f\"{nota} -> no alcanza la regularidad por Nota\")"
   ]
  },
  {
   "cell_type": "markdown",
   "metadata": {
    "id": "qVGW1mB22j6E"
   },
   "source": [
    "### ¿Qué sucede si tenemos más de una opción?"
   ]
  },
  {
   "cell_type": "code",
   "execution_count": 5,
   "metadata": {
    "id": "3ErnNcXO2paR"
   },
   "outputs": [
    {
     "name": "stdout",
     "output_type": "stream",
     "text": [
      "no alcanza la regularidad\n"
     ]
    }
   ],
   "source": [
    "# nota < 6 : no alcanza la regularidad\n",
    "# nota (6, 8): regulariza\n",
    "# nota >=8: promociona \n",
    "nota = 5\n",
    "\n",
    "if nota < 6:\n",
    "    print(\"no alcanza la regularidad\")\n",
    "elif nota < 8:\n",
    "    print(\"alcanza la regularidad\")\n",
    "else:\n",
    "    print(\"promociona!!!\")"
   ]
  },
  {
   "cell_type": "markdown",
   "metadata": {
    "id": "7hzzX9M34RjY"
   },
   "source": [
    "la estructura if - elif - else me asegura que si más de una condición es verdadera, sólo se va a ejecutar el bloque de una de las condiciones y esta corresponde a la primera condición verdadera."
   ]
  },
  {
   "cell_type": "code",
   "execution_count": 8,
   "metadata": {
    "id": "Nv1kKM704tzq"
   },
   "outputs": [
    {
     "name": "stdout",
     "output_type": "stream",
     "text": [
      "83\n"
     ]
    }
   ],
   "source": [
    "nota = 75\n",
    "\n",
    "tp_en_tiempo = False\n",
    "defensa_aprobada = True\n",
    "parcialitos_aprobados = True\n",
    "\n",
    "if tp_en_tiempo:\n",
    "    nota += 2\n",
    "if defensa_aprobada:\n",
    "    nota += 5\n",
    "if parcialitos_aprobados:\n",
    "    nota += 3\n",
    "    \n",
    "print(nota)"
   ]
  },
  {
   "cell_type": "markdown",
   "metadata": {
    "id": "Uc_E67dSfezt"
   },
   "source": [
    "### Bucle while :\n",
    "\n",
    "El comando while ejecuta el bloque de código indentado debajo, mientras se cumpla la condición después del while."
   ]
  },
  {
   "cell_type": "code",
   "execution_count": 10,
   "metadata": {
    "id": "JIczJhK5j-E8"
   },
   "outputs": [
    {
     "name": "stdout",
     "output_type": "stream",
     "text": [
      "34\n"
     ]
    },
    {
     "name": "stdin",
     "output_type": "stream",
     "text": [
      "ingrese un número entre 1 a 50:  23\n",
      "ingrese un número entre 1 a 50:  3\n",
      "ingrese un número entre 1 a 50:  5\n",
      "ingrese un número entre 1 a 50:  34\n"
     ]
    },
    {
     "name": "stdout",
     "output_type": "stream",
     "text": [
      "\\o/\n",
      "adivinaste el número aleatorio 34\n"
     ]
    }
   ],
   "source": [
    "import random\n",
    "numero = random.randint(1,50)\n",
    "prueba = 0\n",
    "print(numero)\n",
    "while prueba != numero:\n",
    "    prueba = int( input(\"ingrese un número entre 1 a 50: \") )\n",
    "\n",
    "print(\"\\o/\")\n",
    "print(f\"adivinaste el número aleatorio {numero}\")"
   ]
  },
  {
   "cell_type": "code",
   "execution_count": 11,
   "metadata": {
    "id": "GldveOGjpoAN"
   },
   "outputs": [
    {
     "name": "stdout",
     "output_type": "stream",
     "text": [
      "0\n",
      "1\n",
      "2\n",
      "3\n",
      "4\n"
     ]
    }
   ],
   "source": [
    "numero = 0\n",
    "while numero < 5:\n",
    "    print(numero)\n",
    "    numero += 1   #numero = numero + 1"
   ]
  },
  {
   "cell_type": "markdown",
   "metadata": {
    "id": "B_VKPyxQnf6W"
   },
   "source": [
    "### Bucle for\n",
    "\n",
    "El bucle for me permite iterar sobre una secuencia."
   ]
  },
  {
   "cell_type": "code",
   "execution_count": 12,
   "metadata": {
    "id": "v9B7uyUZqbHA"
   },
   "outputs": [
    {
     "name": "stdout",
     "output_type": "stream",
     "text": [
      "0\n",
      "1\n",
      "2\n",
      "3\n",
      "4\n"
     ]
    }
   ],
   "source": [
    "for numero in range(5):\n",
    "    print(numero)"
   ]
  },
  {
   "cell_type": "markdown",
   "metadata": {
    "id": "fdXeBQ1uqqsx",
    "tags": []
   },
   "source": [
    "El comando **range(n)** internamente crea una secuencia de números que empieza en 0 hasta n-1.\n",
    "\n",
    "Es posible modificar **range** para iniciar la secuencia en valores distintos de 0 e incremente en pasos distintos de 1\n",
    "\n",
    "### range(start, stop, step)\n",
    "- por defecto **start = 0** y **step = 1**  ⇒ range(5) # 0,1,2,3,4  start=0, step=1\n",
    "- range(5,12) $\\space\\space\\space$ ⇒ # 5,6,7,8,9,10,11 step=1\n",
    "- range(5,12,2) $\\space$⇒ # 5,7,9,11\n"
   ]
  },
  {
   "cell_type": "code",
   "execution_count": 13,
   "metadata": {},
   "outputs": [
    {
     "name": "stdout",
     "output_type": "stream",
     "text": [
      "2\n",
      "4\n",
      "6\n",
      "8\n"
     ]
    }
   ],
   "source": [
    "for numero in range(2,10,2):\n",
    "    print(numero)"
   ]
  },
  {
   "cell_type": "markdown",
   "metadata": {
    "id": "AY9L1flP8DvF"
   },
   "source": [
    "### La sentencia break\n",
    "\n",
    "**break** me permite salir del bucle más interno inmediato"
   ]
  },
  {
   "cell_type": "code",
   "execution_count": 14,
   "metadata": {
    "id": "h9B6SNB_qhWm"
   },
   "outputs": [
    {
     "name": "stdout",
     "output_type": "stream",
     "text": [
      "4\n",
      "3\n",
      "Bucle finalizado\n"
     ]
    }
   ],
   "source": [
    "n = 5\n",
    "while n > 0:\n",
    "    n -= 1\n",
    "    if n == 2:\n",
    "        break\n",
    "    print(n)\n",
    "print('Bucle finalizado')"
   ]
  }
 ],
 "metadata": {
  "colab": {
   "authorship_tag": "ABX9TyNoDCQKRRGy3DaDPACH/LDl",
   "collapsed_sections": [],
   "name": "2-Condicionales y bucles.ipynb",
   "provenance": []
  },
  "kernelspec": {
   "display_name": "Python 3 (ipykernel)",
   "language": "python",
   "name": "python3"
  },
  "language_info": {
   "codemirror_mode": {
    "name": "ipython",
    "version": 3
   },
   "file_extension": ".py",
   "mimetype": "text/x-python",
   "name": "python",
   "nbconvert_exporter": "python",
   "pygments_lexer": "ipython3",
   "version": "3.9.7"
  }
 },
 "nbformat": 4,
 "nbformat_minor": 4
}
