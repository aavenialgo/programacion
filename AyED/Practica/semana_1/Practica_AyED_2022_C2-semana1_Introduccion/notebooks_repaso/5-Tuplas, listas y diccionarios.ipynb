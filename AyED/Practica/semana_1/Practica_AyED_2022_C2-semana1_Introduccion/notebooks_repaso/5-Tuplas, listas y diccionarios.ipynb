{
 "cells": [
  {
   "cell_type": "markdown",
   "metadata": {
    "id": "DxXS5nu7gXKK"
   },
   "source": [
    "### Tipos de datos integrados\n",
    "\n",
    "Vimos que python tiene distintos tipos de datos: \n",
    "- Numéricos: **int, float**\n",
    "- Cadenas de carateres: **strings**\n",
    "- Secuencias: vimos **range**, ahora vamos a ver **tuplas** y **listas**\n",
    "- Tipo mapa: veremos **diccionarios**"
   ]
  },
  {
   "cell_type": "markdown",
   "metadata": {
    "id": "uCMbq6OyqoFn"
   },
   "source": [
    "## Tuplas\n",
    "Las tuplas son una colección de datos que pueden ser de distinto tipo. Suelen utilizarse para representar registros o estructuras simples que tienen múltiples partes"
   ]
  },
  {
   "cell_type": "code",
   "execution_count": null,
   "metadata": {
    "colab": {
     "base_uri": "https://localhost:8080/"
    },
    "executionInfo": {
     "elapsed": 10,
     "status": "ok",
     "timestamp": 1658231692774,
     "user": {
      "displayName": "Diana Carolina VERTIZ DEL VALLE",
      "userId": "04236681262725283456"
     },
     "user_tz": 180
    },
    "id": "F6XRJZPjjpxO",
    "outputId": "c65b3679-bf93-4b80-a5a4-76acfe09fc03"
   },
   "outputs": [],
   "source": [
    "paciente_1 = (\"Ana\", 25, 55.5)\n",
    "\n",
    "print(paciente_1[0]) #nombre \n",
    "print(paciente_1[1]) #edad\n",
    "print(paciente_1[2]) #peso"
   ]
  },
  {
   "cell_type": "markdown",
   "metadata": {
    "id": "GP0P1964sjB_"
   },
   "source": [
    "Al igual que el tipo de dato **string** las tuplas son **inmutables**"
   ]
  },
  {
   "cell_type": "code",
   "execution_count": null,
   "metadata": {
    "executionInfo": {
     "elapsed": 9,
     "status": "ok",
     "timestamp": 1658231692775,
     "user": {
      "displayName": "Diana Carolina VERTIZ DEL VALLE",
      "userId": "04236681262725283456"
     },
     "user_tz": 180
    },
    "id": "XHkG6p0wsS7k"
   },
   "outputs": [],
   "source": [
    "# No está permitido\n",
    "#paciente_1[0] = \"Sofía\""
   ]
  },
  {
   "cell_type": "code",
   "execution_count": null,
   "metadata": {
    "colab": {
     "base_uri": "https://localhost:8080/"
    },
    "executionInfo": {
     "elapsed": 9,
     "status": "ok",
     "timestamp": 1658231692775,
     "user": {
      "displayName": "Diana Carolina VERTIZ DEL VALLE",
      "userId": "04236681262725283456"
     },
     "user_tz": 180
    },
    "id": "anOCk2b7xn-L",
    "outputId": "8816dc37-75fc-41bd-c6a4-be6399f42a38"
   },
   "outputs": [],
   "source": [
    "#(nombre, edad, peso) = paciente_1\n",
    "nombre, edad, peso = paciente_1\n",
    "print(f'paciente 1: {nombre}, edad: {edad}, peso: {peso}')"
   ]
  },
  {
   "cell_type": "code",
   "execution_count": null,
   "metadata": {
    "colab": {
     "base_uri": "https://localhost:8080/"
    },
    "executionInfo": {
     "elapsed": 7,
     "status": "ok",
     "timestamp": 1658231692775,
     "user": {
      "displayName": "Diana Carolina VERTIZ DEL VALLE",
      "userId": "04236681262725283456"
     },
     "user_tz": 180
    },
    "id": "SEXY5zWAtVkx",
    "outputId": "e66a9c96-e0cb-408c-bec5-d9c58b71279d"
   },
   "outputs": [],
   "source": [
    "# tupla vacía\n",
    "tupla_1 = () \n",
    "tupla_2 = (\"tablet\", \"Lenovo\", 45000)\n",
    "\n",
    "tupla_3 = (\"tablet\", 40000) + (\"Dell\", 5)\n",
    "print(tupla_3)\n",
    "print(tupla_3[1:3])\n",
    "print(len(tupla_3))"
   ]
  },
  {
   "cell_type": "markdown",
   "metadata": {
    "id": "1JIBTUpqzezH"
   },
   "source": [
    "Se pueden utilizar para retornar más de un resultado en una función"
   ]
  },
  {
   "cell_type": "code",
   "execution_count": null,
   "metadata": {
    "executionInfo": {
     "elapsed": 5,
     "status": "ok",
     "timestamp": 1658231692775,
     "user": {
      "displayName": "Diana Carolina VERTIZ DEL VALLE",
      "userId": "04236681262725283456"
     },
     "user_tz": 180
    },
    "id": "xjceoVCgzptm"
   },
   "outputs": [],
   "source": [
    "def dividir(num, den):\n",
    "    cociente = num//den\n",
    "    residuo = num % den\n",
    "    return cociente, residuo"
   ]
  },
  {
   "cell_type": "code",
   "execution_count": null,
   "metadata": {
    "colab": {
     "base_uri": "https://localhost:8080/"
    },
    "executionInfo": {
     "elapsed": 6,
     "status": "ok",
     "timestamp": 1658231692776,
     "user": {
      "displayName": "Diana Carolina VERTIZ DEL VALLE",
      "userId": "04236681262725283456"
     },
     "user_tz": 180
    },
    "id": "Pgjp6INI0XFm",
    "outputId": "533043a8-d10c-4ebf-b580-a7b1301d20a9"
   },
   "outputs": [],
   "source": [
    "cociente, residuo = dividir(15, 7)\n",
    "a = dividir(15,7)\n",
    "print(cociente)\n",
    "print(residuo)\n",
    "print(a)"
   ]
  },
  {
   "cell_type": "markdown",
   "metadata": {
    "id": "jM1SEdOVxeU3"
   },
   "source": [
    "## Listas\n",
    "Las tuplas suelen usarse para representar una estructura de múltiples partes (diferentes tipos).\n",
    "\n",
    "Las listas suelen usarse para una colección de elementos, pero del mismo tipo. Sin embargo, podrían ser colecciones de objetos de distinto tipo."
   ]
  },
  {
   "cell_type": "code",
   "execution_count": null,
   "metadata": {
    "colab": {
     "base_uri": "https://localhost:8080/"
    },
    "executionInfo": {
     "elapsed": 8,
     "status": "ok",
     "timestamp": 1658157583241,
     "user": {
      "displayName": "Diana Carolina VERTIZ DEL VALLE",
      "userId": "04236681262725283456"
     },
     "user_tz": 180
    },
    "id": "HkmK75l_w4Ap",
    "outputId": "dce88a81-4431-4959-b507-a23f8fd261ec"
   },
   "outputs": [],
   "source": [
    "una_lista = []\n",
    "lista_1 = [ 2, 'a', 4, [1,2] ]\n",
    "print(len(lista_1))\n",
    "print(lista_1[3][1])"
   ]
  },
  {
   "cell_type": "code",
   "execution_count": null,
   "metadata": {
    "colab": {
     "base_uri": "https://localhost:8080/"
    },
    "executionInfo": {
     "elapsed": 420,
     "status": "ok",
     "timestamp": 1658157881864,
     "user": {
      "displayName": "Diana Carolina VERTIZ DEL VALLE",
      "userId": "04236681262725283456"
     },
     "user_tz": 180
    },
    "id": "zDkxvf-l5MbY",
    "outputId": "3a49dc4c-bc15-45a1-eb81-e87b136fb4a7"
   },
   "outputs": [],
   "source": [
    "paciente_1 = (\"Ana\", 25, 55.5)\n",
    "paciente_2 = (\"Pedro\", 22, 75.2)\n",
    "paciente_3 = (\"Claudia\", 23, 53.6)\n",
    "paciente_4 = (\"Ramiro\", 24, 77.3)\n",
    "\n",
    "# lista de tuplas\n",
    "registros = []\n",
    "registros.append(paciente_1)\n",
    "registros.append(paciente_2)\n",
    "registros.append(paciente_3)\n",
    "registros.append(paciente_4)\n",
    "\n",
    "print(registros)"
   ]
  },
  {
   "cell_type": "code",
   "execution_count": null,
   "metadata": {
    "colab": {
     "base_uri": "https://localhost:8080/"
    },
    "executionInfo": {
     "elapsed": 7,
     "status": "ok",
     "timestamp": 1658157724222,
     "user": {
      "displayName": "Diana Carolina VERTIZ DEL VALLE",
      "userId": "04236681262725283456"
     },
     "user_tz": 180
    },
    "id": "ORNLEG7a5qgH",
    "outputId": "028d2089-4898-41b0-d65b-0ef4defb456c"
   },
   "outputs": [],
   "source": [
    "print(registros[0])"
   ]
  },
  {
   "cell_type": "code",
   "execution_count": null,
   "metadata": {
    "colab": {
     "base_uri": "https://localhost:8080/"
    },
    "executionInfo": {
     "elapsed": 430,
     "status": "ok",
     "timestamp": 1658157917584,
     "user": {
      "displayName": "Diana Carolina VERTIZ DEL VALLE",
      "userId": "04236681262725283456"
     },
     "user_tz": 180
    },
    "id": "wU13_0795u2E",
    "outputId": "1d7df5b9-ecbc-4a12-e1c1-1fbb5b35af8f"
   },
   "outputs": [],
   "source": [
    "print(registros[1:3])\n",
    "print(registros[-1])"
   ]
  },
  {
   "cell_type": "markdown",
   "metadata": {
    "id": "7daiFibu7O4X"
   },
   "source": [
    "### Las listas son **mutables**"
   ]
  },
  {
   "cell_type": "code",
   "execution_count": null,
   "metadata": {
    "executionInfo": {
     "elapsed": 393,
     "status": "ok",
     "timestamp": 1658159550541,
     "user": {
      "displayName": "Diana Carolina VERTIZ DEL VALLE",
      "userId": "04236681262725283456"
     },
     "user_tz": 180
    },
    "id": "3pAW0R2I7QoG"
   },
   "outputs": [],
   "source": [
    "lista_1 = [ 2, 'a', 4, [1,2] ]\n",
    "print(lista_1)\n",
    "lista_1[0] = 5"
   ]
  },
  {
   "cell_type": "code",
   "execution_count": null,
   "metadata": {
    "colab": {
     "base_uri": "https://localhost:8080/"
    },
    "executionInfo": {
     "elapsed": 2,
     "status": "ok",
     "timestamp": 1658159551645,
     "user": {
      "displayName": "Diana Carolina VERTIZ DEL VALLE",
      "userId": "04236681262725283456"
     },
     "user_tz": 180
    },
    "id": "QcpfbA0j7cWS",
    "outputId": "b4591015-470c-4413-8b8f-c94ec2419e90"
   },
   "outputs": [],
   "source": [
    "print(lista_1)"
   ]
  },
  {
   "cell_type": "code",
   "execution_count": null,
   "metadata": {
    "colab": {
     "base_uri": "https://localhost:8080/"
    },
    "executionInfo": {
     "elapsed": 4,
     "status": "ok",
     "timestamp": 1658159552079,
     "user": {
      "displayName": "Diana Carolina VERTIZ DEL VALLE",
      "userId": "04236681262725283456"
     },
     "user_tz": 180
    },
    "id": "Oh7g8j3Z_sD3",
    "outputId": "cc615586-d8aa-4fce-fbf6-c784613eabbc"
   },
   "outputs": [],
   "source": [
    "lista_1.append(7)\n",
    "print(lista_1)"
   ]
  },
  {
   "cell_type": "code",
   "execution_count": null,
   "metadata": {
    "colab": {
     "base_uri": "https://localhost:8080/"
    },
    "executionInfo": {
     "elapsed": 5,
     "status": "ok",
     "timestamp": 1658159553050,
     "user": {
      "displayName": "Diana Carolina VERTIZ DEL VALLE",
      "userId": "04236681262725283456"
     },
     "user_tz": 180
    },
    "id": "9FtftvOV_fFM",
    "outputId": "b21cf5fb-2589-4e3b-f8bf-70a47e22c29c"
   },
   "outputs": [],
   "source": [
    "lista_2 = [4, 'b']\n",
    "lista_3 = lista_1 + lista_2\n",
    "print(lista_3)"
   ]
  },
  {
   "cell_type": "code",
   "execution_count": null,
   "metadata": {
    "colab": {
     "base_uri": "https://localhost:8080/"
    },
    "executionInfo": {
     "elapsed": 588,
     "status": "ok",
     "timestamp": 1658159556211,
     "user": {
      "displayName": "Diana Carolina VERTIZ DEL VALLE",
      "userId": "04236681262725283456"
     },
     "user_tz": 180
    },
    "id": "CaSETnXUAFiI",
    "outputId": "ae5dc0ee-ec48-4d58-ab4a-a57c684f7d7c"
   },
   "outputs": [],
   "source": [
    "lista_3.remove(5)\n",
    "print(lista_3)"
   ]
  },
  {
   "cell_type": "code",
   "execution_count": null,
   "metadata": {
    "colab": {
     "base_uri": "https://localhost:8080/"
    },
    "executionInfo": {
     "elapsed": 3,
     "status": "ok",
     "timestamp": 1658159556914,
     "user": {
      "displayName": "Diana Carolina VERTIZ DEL VALLE",
      "userId": "04236681262725283456"
     },
     "user_tz": 180
    },
    "id": "ifdI3w7ZAP-T",
    "outputId": "c820c26d-9e59-46c9-f9dd-4856883a058b"
   },
   "outputs": [],
   "source": [
    "lista_3.remove(4)\n",
    "print(lista_3)"
   ]
  },
  {
   "cell_type": "code",
   "execution_count": null,
   "metadata": {
    "colab": {
     "base_uri": "https://localhost:8080/"
    },
    "executionInfo": {
     "elapsed": 397,
     "status": "ok",
     "timestamp": 1658159591096,
     "user": {
      "displayName": "Diana Carolina VERTIZ DEL VALLE",
      "userId": "04236681262725283456"
     },
     "user_tz": 180
    },
    "id": "el3a6jQHAY0X",
    "outputId": "075dac83-909f-4c27-c72e-753505bb3fb2"
   },
   "outputs": [],
   "source": [
    "lista_3.pop(1)\n",
    "print(lista_3)"
   ]
  },
  {
   "cell_type": "code",
   "execution_count": null,
   "metadata": {
    "colab": {
     "base_uri": "https://localhost:8080/"
    },
    "executionInfo": {
     "elapsed": 500,
     "status": "ok",
     "timestamp": 1658159621161,
     "user": {
      "displayName": "Diana Carolina VERTIZ DEL VALLE",
      "userId": "04236681262725283456"
     },
     "user_tz": 180
    },
    "id": "77sQ9uIIA5yL",
    "outputId": "2bdb39bb-0395-4de5-a93e-c6290b210a79"
   },
   "outputs": [],
   "source": [
    "lista_3.pop()\n",
    "print(lista_3)"
   ]
  },
  {
   "cell_type": "markdown",
   "metadata": {
    "id": "K-Dd0azs7ziv"
   },
   "source": [
    "## Bucles **for** para tuplas y listas "
   ]
  },
  {
   "cell_type": "code",
   "execution_count": null,
   "metadata": {
    "colab": {
     "base_uri": "https://localhost:8080/"
    },
    "executionInfo": {
     "elapsed": 9,
     "status": "ok",
     "timestamp": 1658158472436,
     "user": {
      "displayName": "Diana Carolina VERTIZ DEL VALLE",
      "userId": "04236681262725283456"
     },
     "user_tz": 180
    },
    "id": "_F6T1nCc8HSq",
    "outputId": "2807256a-dba8-4d2f-9a4c-e0debfd9095f"
   },
   "outputs": [],
   "source": [
    "paciente_1 = (\"Ana\", 25, 55.5)\n",
    "\n",
    "for elemento in paciente_1:\n",
    "    print(elemento)"
   ]
  },
  {
   "cell_type": "code",
   "execution_count": null,
   "metadata": {
    "colab": {
     "base_uri": "https://localhost:8080/"
    },
    "executionInfo": {
     "elapsed": 6,
     "status": "ok",
     "timestamp": 1658158586539,
     "user": {
      "displayName": "Diana Carolina VERTIZ DEL VALLE",
      "userId": "04236681262725283456"
     },
     "user_tz": 180
    },
    "id": "JSR419W48lg8",
    "outputId": "32a3279b-d77e-47a4-d636-6ddc14d72463"
   },
   "outputs": [],
   "source": [
    "paciente_1 = (\"Ana\", 25, 55.5)\n",
    "paciente_2 = (\"Pedro\", 22, 75.2)\n",
    "paciente_3 = (\"Claudia\", 23, 53.6)\n",
    "paciente_4 = (\"Ramiro\", 24, 77.3)\n",
    "\n",
    "# lista de tuplas\n",
    "registros = []\n",
    "registros.append(paciente_1)\n",
    "registros.append(paciente_2)\n",
    "registros.append(paciente_3)\n",
    "registros.append(paciente_4)\n",
    "\n",
    "for paciente in registros:\n",
    "    print(paciente)"
   ]
  },
  {
   "cell_type": "code",
   "execution_count": null,
   "metadata": {
    "colab": {
     "base_uri": "https://localhost:8080/"
    },
    "executionInfo": {
     "elapsed": 433,
     "status": "ok",
     "timestamp": 1658158811855,
     "user": {
      "displayName": "Diana Carolina VERTIZ DEL VALLE",
      "userId": "04236681262725283456"
     },
     "user_tz": 180
    },
    "id": "K4gmTINU9DSX",
    "outputId": "c964ea7b-ed0a-4e67-f3e7-aebf5e1a9b5e"
   },
   "outputs": [],
   "source": [
    "for indice , paciente in enumerate(registros):\n",
    "    print(f'El paciente_{indice+1} tiene el nombre {paciente[0]}, edad {paciente[1]} y peso {paciente[2]}')"
   ]
  },
  {
   "cell_type": "code",
   "execution_count": null,
   "metadata": {
    "colab": {
     "base_uri": "https://localhost:8080/"
    },
    "executionInfo": {
     "elapsed": 576,
     "status": "ok",
     "timestamp": 1658159020247,
     "user": {
      "displayName": "Diana Carolina VERTIZ DEL VALLE",
      "userId": "04236681262725283456"
     },
     "user_tz": 180
    },
    "id": "4WqiwjEH-UVc",
    "outputId": "cfe4ef88-5a73-41f4-ddfe-117eeba240d2"
   },
   "outputs": [],
   "source": [
    "retorno = list(enumerate(registros))\n",
    "print(retorno)"
   ]
  },
  {
   "cell_type": "markdown",
   "metadata": {
    "id": "P-2cbZLICIA7"
   },
   "source": [
    "## Listas y strings"
   ]
  },
  {
   "cell_type": "markdown",
   "metadata": {
    "id": "-xw0puUECYhp"
   },
   "source": [
    "objeto **list** a partir de **string**"
   ]
  },
  {
   "cell_type": "code",
   "execution_count": null,
   "metadata": {
    "colab": {
     "base_uri": "https://localhost:8080/"
    },
    "executionInfo": {
     "elapsed": 392,
     "status": "ok",
     "timestamp": 1658160377512,
     "user": {
      "displayName": "Diana Carolina VERTIZ DEL VALLE",
      "userId": "04236681262725283456"
     },
     "user_tz": 180
    },
    "id": "Cvdfb9J_CNwo",
    "outputId": "d482e90e-695f-4c8d-e6b1-83bb7d7a40d4"
   },
   "outputs": [],
   "source": [
    "cadena_1 = \"soy una cadena\"\n",
    "desde_cadena_1 = list(cadena_1)\n",
    "print(desde_cadena_1)"
   ]
  },
  {
   "cell_type": "markdown",
   "metadata": {
    "id": "WerOOm4cCZSH"
   },
   "source": [
    "uso el método **split()** "
   ]
  },
  {
   "cell_type": "code",
   "execution_count": null,
   "metadata": {
    "colab": {
     "base_uri": "https://localhost:8080/"
    },
    "executionInfo": {
     "elapsed": 414,
     "status": "ok",
     "timestamp": 1658160393697,
     "user": {
      "displayName": "Diana Carolina VERTIZ DEL VALLE",
      "userId": "04236681262725283456"
     },
     "user_tz": 180
    },
    "id": "nSZNQ6gACZ4J",
    "outputId": "eec4efcc-b6fa-444e-e3f6-68f69cb2edd4"
   },
   "outputs": [],
   "source": [
    "desde_cadena_1 = cadena_1.split()\n",
    "print(desde_cadena_1)"
   ]
  },
  {
   "cell_type": "markdown",
   "metadata": {
    "id": "nQ1EOLUwEFmR"
   },
   "source": [
    "objeto **string** a partir de **list**"
   ]
  },
  {
   "cell_type": "code",
   "execution_count": null,
   "metadata": {
    "colab": {
     "base_uri": "https://localhost:8080/"
    },
    "executionInfo": {
     "elapsed": 398,
     "status": "ok",
     "timestamp": 1658160600005,
     "user": {
      "displayName": "Diana Carolina VERTIZ DEL VALLE",
      "userId": "04236681262725283456"
     },
     "user_tz": 180
    },
    "id": "ZeFHB7QSDyj3",
    "outputId": "76c861f5-2008-4e00-c115-cb8191f0599b"
   },
   "outputs": [],
   "source": [
    "lista_strings = ['a', 'b', 'c']\n",
    "desde_lista = ''.join(lista_strings)\n",
    "print(desde_lista)"
   ]
  },
  {
   "cell_type": "code",
   "execution_count": null,
   "metadata": {
    "colab": {
     "base_uri": "https://localhost:8080/"
    },
    "executionInfo": {
     "elapsed": 467,
     "status": "ok",
     "timestamp": 1658160615881,
     "user": {
      "displayName": "Diana Carolina VERTIZ DEL VALLE",
      "userId": "04236681262725283456"
     },
     "user_tz": 180
    },
    "id": "t0w_Cwr-EtAY",
    "outputId": "1ff8f962-2b1a-4130-9c88-9d7671c7b395"
   },
   "outputs": [],
   "source": [
    "lista_strings = ['a', 'b', 'c']\n",
    "desde_lista = '*'.join(lista_strings)\n",
    "print(desde_lista)"
   ]
  },
  {
   "cell_type": "markdown",
   "metadata": {
    "id": "D4qyVzWfE3ae"
   },
   "source": [
    "## Ordenar listas\n",
    "\n",
    "**sort()**, **sorted()**, **reverse()** "
   ]
  },
  {
   "cell_type": "code",
   "execution_count": null,
   "metadata": {
    "executionInfo": {
     "elapsed": 431,
     "status": "ok",
     "timestamp": 1658173949866,
     "user": {
      "displayName": "Diana Carolina VERTIZ DEL VALLE",
      "userId": "04236681262725283456"
     },
     "user_tz": 180
    },
    "id": "ZFapmOc6E5WD"
   },
   "outputs": [],
   "source": [
    "lista_original = [9, 4, 13, 2, 7, 1]"
   ]
  },
  {
   "cell_type": "markdown",
   "metadata": {
    "id": "NfR7j9T4FdPG"
   },
   "source": [
    "**sorted()** retorna una lista ordenada sin modificar la original"
   ]
  },
  {
   "cell_type": "code",
   "execution_count": null,
   "metadata": {
    "colab": {
     "base_uri": "https://localhost:8080/"
    },
    "executionInfo": {
     "elapsed": 528,
     "status": "ok",
     "timestamp": 1658173952093,
     "user": {
      "displayName": "Diana Carolina VERTIZ DEL VALLE",
      "userId": "04236681262725283456"
     },
     "user_tz": 180
    },
    "id": "j80Zs7hfFXBN",
    "outputId": "71d5023b-eb4f-4796-c4e1-5e7b1a20416e"
   },
   "outputs": [],
   "source": [
    "nueva_lista = sorted(lista_original)\n",
    "print(nueva_lista)\n",
    "print(lista_original)"
   ]
  },
  {
   "cell_type": "markdown",
   "metadata": {
    "id": "uliKIAMp3rHg"
   },
   "source": [
    "**sort()** modifica la lista"
   ]
  },
  {
   "cell_type": "code",
   "execution_count": null,
   "metadata": {
    "colab": {
     "base_uri": "https://localhost:8080/"
    },
    "executionInfo": {
     "elapsed": 6,
     "status": "ok",
     "timestamp": 1658174090941,
     "user": {
      "displayName": "Diana Carolina VERTIZ DEL VALLE",
      "userId": "04236681262725283456"
     },
     "user_tz": 180
    },
    "id": "GZrddZj93nAl",
    "outputId": "2df8bd8a-44c9-4bb6-f26f-5522b5247992"
   },
   "outputs": [],
   "source": [
    "lista_1 = [9, 4, 13, 2, 7, 1]\n",
    "print(lista_1)\n",
    "lista_1.sort()\n",
    "print(lista_1)\n"
   ]
  },
  {
   "cell_type": "markdown",
   "metadata": {
    "id": "P6jQ1Vfc4Vdx"
   },
   "source": [
    "**reverse()** modifica la lista"
   ]
  },
  {
   "cell_type": "code",
   "execution_count": null,
   "metadata": {
    "colab": {
     "base_uri": "https://localhost:8080/"
    },
    "executionInfo": {
     "elapsed": 458,
     "status": "ok",
     "timestamp": 1658174454061,
     "user": {
      "displayName": "Diana Carolina VERTIZ DEL VALLE",
      "userId": "04236681262725283456"
     },
     "user_tz": 180
    },
    "id": "TEJ3HDRb5Fo2",
    "outputId": "43a5391e-f955-4c84-dad8-8fc1b58e7f3d"
   },
   "outputs": [],
   "source": [
    "lista_1 = [9, 4, 13, 2, 7, 1]\n",
    "print(lista_1)\n",
    "lista_1.reverse()\n",
    "print(lista_1)"
   ]
  },
  {
   "cell_type": "markdown",
   "metadata": {
    "id": "tZD4aEh-ViqG"
   },
   "source": [
    "## Diccionarios\n",
    "Un diccionario almacena los elementos organizados mediante claves asociadas a valores. Utilizamos las claves como índices para acceder a los valores."
   ]
  },
  {
   "cell_type": "code",
   "execution_count": 46,
   "metadata": {
    "colab": {
     "base_uri": "https://localhost:8080/"
    },
    "executionInfo": {
     "elapsed": 243,
     "status": "ok",
     "timestamp": 1658236706842,
     "user": {
      "displayName": "Diana Carolina VERTIZ DEL VALLE",
      "userId": "04236681262725283456"
     },
     "user_tz": 180
    },
    "id": "Cgm2MtqOVkde",
    "outputId": "887c19c2-4f76-47ae-871a-6196f7ed73a8"
   },
   "outputs": [
    {
     "name": "stdout",
     "output_type": "stream",
     "text": [
      "25\n"
     ]
    }
   ],
   "source": [
    "pacientes = { 'Ana': 25, 'Pedro': 22, 'Jeremías': 30 }\n",
    "print(pacientes['Ana'])"
   ]
  },
  {
   "cell_type": "code",
   "execution_count": 47,
   "metadata": {
    "colab": {
     "base_uri": "https://localhost:8080/"
    },
    "executionInfo": {
     "elapsed": 287,
     "status": "ok",
     "timestamp": 1658236722497,
     "user": {
      "displayName": "Diana Carolina VERTIZ DEL VALLE",
      "userId": "04236681262725283456"
     },
     "user_tz": 180
    },
    "id": "pkqCmlO8m2_C",
    "outputId": "c3090866-d7f4-46a5-f2c9-ff784529ce97"
   },
   "outputs": [
    {
     "name": "stdout",
     "output_type": "stream",
     "text": [
      "{'Ana': 25, 'Pedro': 22, 'Jeremías': 30, 'Claudia': 28}\n"
     ]
    }
   ],
   "source": [
    "pacientes['Claudia'] = 28\n",
    "print(pacientes)"
   ]
  },
  {
   "cell_type": "code",
   "execution_count": 48,
   "metadata": {
    "colab": {
     "base_uri": "https://localhost:8080/"
    },
    "executionInfo": {
     "elapsed": 265,
     "status": "ok",
     "timestamp": 1658236762634,
     "user": {
      "displayName": "Diana Carolina VERTIZ DEL VALLE",
      "userId": "04236681262725283456"
     },
     "user_tz": 180
    },
    "id": "nc5EMjobm01C",
    "outputId": "54afb854-d05e-4fcf-8814-2d26b1c6b20d"
   },
   "outputs": [
    {
     "name": "stdout",
     "output_type": "stream",
     "text": [
      "{'Ana': 26, 'Pedro': 22, 'Jeremías': 30, 'Claudia': 28}\n"
     ]
    }
   ],
   "source": [
    "pacientes['Ana'] = 26\n",
    "print(pacientes)"
   ]
  },
  {
   "cell_type": "code",
   "execution_count": 51,
   "metadata": {
    "colab": {
     "base_uri": "https://localhost:8080/"
    },
    "executionInfo": {
     "elapsed": 295,
     "status": "ok",
     "timestamp": 1658236799830,
     "user": {
      "displayName": "Diana Carolina VERTIZ DEL VALLE",
      "userId": "04236681262725283456"
     },
     "user_tz": 180
    },
    "id": "6IDyTPEenRUY",
    "outputId": "2d1a269b-14d3-4d11-d772-f783d1643164"
   },
   "outputs": [
    {
     "name": "stdout",
     "output_type": "stream",
     "text": [
      "True\n"
     ]
    }
   ],
   "source": [
    "print('Pedro'in pacientes)"
   ]
  },
  {
   "cell_type": "code",
   "execution_count": 52,
   "metadata": {
    "colab": {
     "base_uri": "https://localhost:8080/"
    },
    "executionInfo": {
     "elapsed": 266,
     "status": "ok",
     "timestamp": 1658236899429,
     "user": {
      "displayName": "Diana Carolina VERTIZ DEL VALLE",
      "userId": "04236681262725283456"
     },
     "user_tz": 180
    },
    "id": "Kxm39Vq7ngq3",
    "outputId": "2045269f-571f-4a1d-fad4-3efaa0b2938a"
   },
   "outputs": [
    {
     "name": "stdout",
     "output_type": "stream",
     "text": [
      "dict_keys(['Ana', 'Pedro', 'Jeremías', 'Claudia'])\n"
     ]
    }
   ],
   "source": [
    "print(pacientes.keys())"
   ]
  },
  {
   "cell_type": "code",
   "execution_count": 53,
   "metadata": {
    "colab": {
     "base_uri": "https://localhost:8080/"
    },
    "executionInfo": {
     "elapsed": 325,
     "status": "ok",
     "timestamp": 1658236920799,
     "user": {
      "displayName": "Diana Carolina VERTIZ DEL VALLE",
      "userId": "04236681262725283456"
     },
     "user_tz": 180
    },
    "id": "rLz3J8S8nzES",
    "outputId": "82fecb31-9a43-4282-8c30-a0dcc5cefb20"
   },
   "outputs": [
    {
     "name": "stdout",
     "output_type": "stream",
     "text": [
      "dict_values([26, 22, 30, 28])\n"
     ]
    }
   ],
   "source": [
    "print(pacientes.values())"
   ]
  },
  {
   "cell_type": "markdown",
   "metadata": {
    "id": "aeL_jWgde9wB"
   },
   "source": [
    "Los valores (asociados a las claves) en un diccionario, pueden ser de cualquier tipo de dato (strings, enteros, diccionarios, tipos creados por el usuario, etc), además podemos tener el mismo valor asociado a más de una clave. \n",
    "\n",
    "La principal restricción en los diccionarios son las claves, estas deben ser únicas (no se repiten) y deben ser de tipo inmutable (int, float, booleans, strings, tuples)"
   ]
  },
  {
   "cell_type": "code",
   "execution_count": 54,
   "metadata": {
    "executionInfo": {
     "elapsed": 403,
     "status": "ok",
     "timestamp": 1658235909130,
     "user": {
      "displayName": "Diana Carolina VERTIZ DEL VALLE",
      "userId": "04236681262725283456"
     },
     "user_tz": 180
    },
    "id": "sHF78exie6K2"
   },
   "outputs": [],
   "source": [
    "feriados = { (15,8):\"Paso a la Inmortalidad del General José de San Martín\", (21,9):\"Día de los estudiantes\",\n",
    "             (29,9):\"San Miguel patrono de ER\", (7, 10):\"Día no laboral con fines turísticos\", \n",
    "             (10,10):\"Día del Respeto de la Diversidad Cultural\", (12,10):\"Nuestra Señora del Rosario de Pompeya Patrona de Oro Verde\",\n",
    "             (21, 11):\"Día de la Soberanía Nacional\", (8,12):\"Inmaculada Concepción de María\", \n",
    "             (9,12):\"Día no laboral con fines turísticos\", (25,12):\"Navidad\"}"
   ]
  },
  {
   "cell_type": "code",
   "execution_count": 55,
   "metadata": {
    "colab": {
     "base_uri": "https://localhost:8080/"
    },
    "executionInfo": {
     "elapsed": 6,
     "status": "ok",
     "timestamp": 1658235955359,
     "user": {
      "displayName": "Diana Carolina VERTIZ DEL VALLE",
      "userId": "04236681262725283456"
     },
     "user_tz": 180
    },
    "id": "58qLe4tfj--D",
    "outputId": "72cd6915-6ff8-477b-a41c-aefb33b16835"
   },
   "outputs": [
    {
     "name": "stdout",
     "output_type": "stream",
     "text": [
      "Día del Respeto de la Diversidad Cultural\n"
     ]
    }
   ],
   "source": [
    "print(feriados[(10,10)])"
   ]
  },
  {
   "cell_type": "code",
   "execution_count": 56,
   "metadata": {
    "executionInfo": {
     "elapsed": 2,
     "status": "ok",
     "timestamp": 1658236048171,
     "user": {
      "displayName": "Diana Carolina VERTIZ DEL VALLE",
      "userId": "04236681262725283456"
     },
     "user_tz": 180
    },
    "id": "Nys0-8GKkX5Z"
   },
   "outputs": [],
   "source": [
    "feriados[(12,10)] = \"Día del Respeto de la Diversidad Cultural\""
   ]
  },
  {
   "cell_type": "code",
   "execution_count": 57,
   "metadata": {
    "colab": {
     "base_uri": "https://localhost:8080/"
    },
    "executionInfo": {
     "elapsed": 258,
     "status": "ok",
     "timestamp": 1658236056001,
     "user": {
      "displayName": "Diana Carolina VERTIZ DEL VALLE",
      "userId": "04236681262725283456"
     },
     "user_tz": 180
    },
    "id": "C9NbMJESkg8s",
    "outputId": "af4e038e-58ff-49fe-816b-43b1cea6dfa4"
   },
   "outputs": [
    {
     "name": "stdout",
     "output_type": "stream",
     "text": [
      "{(15, 8): 'Paso a la Inmortalidad del General José de San Martín', (21, 9): 'Día de los estudiantes', (29, 9): 'San Miguel patrono de ER', (7, 10): 'Día no laboral con fines turísticos', (10, 10): 'Día del Respeto de la Diversidad Cultural', (12, 10): 'Día del Respeto de la Diversidad Cultural', (21, 11): 'Día de la Soberanía Nacional', (8, 12): 'Inmaculada Concepción de María', (9, 12): 'Día no laboral con fines turísticos', (25, 12): 'Navidad'}\n"
     ]
    }
   ],
   "source": [
    "print(feriados)"
   ]
  },
  {
   "cell_type": "code",
   "execution_count": 58,
   "metadata": {
    "colab": {
     "base_uri": "https://localhost:8080/"
    },
    "executionInfo": {
     "elapsed": 270,
     "status": "ok",
     "timestamp": 1658237823176,
     "user": {
      "displayName": "Diana Carolina VERTIZ DEL VALLE",
      "userId": "04236681262725283456"
     },
     "user_tz": 180
    },
    "id": "prV7DnCkqwiG",
    "outputId": "07e5b3e7-ce0e-455c-bb15-04ce2d86a3a1"
   },
   "outputs": [
    {
     "name": "stdout",
     "output_type": "stream",
     "text": [
      "Paso a la Inmortalidad del General José de San Martín\n",
      "Día de los estudiantes\n",
      "San Miguel patrono de ER\n",
      "Día no laboral con fines turísticos\n",
      "Día del Respeto de la Diversidad Cultural\n",
      "Día del Respeto de la Diversidad Cultural\n",
      "Día de la Soberanía Nacional\n",
      "Inmaculada Concepción de María\n",
      "Día no laboral con fines turísticos\n",
      "Navidad\n"
     ]
    }
   ],
   "source": [
    "for clave in feriados:\n",
    "    print(feriados[clave])"
   ]
  },
  {
   "cell_type": "code",
   "execution_count": 59,
   "metadata": {},
   "outputs": [
    {
     "name": "stdout",
     "output_type": "stream",
     "text": [
      "Paso a la Inmortalidad del General José de San Martín\n",
      "Día de los estudiantes\n",
      "San Miguel patrono de ER\n",
      "Día no laboral con fines turísticos\n",
      "Día del Respeto de la Diversidad Cultural\n",
      "Día del Respeto de la Diversidad Cultural\n",
      "Día de la Soberanía Nacional\n",
      "Inmaculada Concepción de María\n",
      "Día no laboral con fines turísticos\n",
      "Navidad\n"
     ]
    }
   ],
   "source": [
    "for valor in feriados.values():\n",
    "    print(valor)"
   ]
  }
 ],
 "metadata": {
  "colab": {
   "authorship_tag": "ABX9TyMaDtRi4zr6nMNuGAhVsWYs",
   "collapsed_sections": [],
   "name": "Tuplas, listas y diccionarios.ipynb",
   "provenance": []
  },
  "kernelspec": {
   "display_name": "Python 3 (ipykernel)",
   "language": "python",
   "name": "python3"
  },
  "language_info": {
   "codemirror_mode": {
    "name": "ipython",
    "version": 3
   },
   "file_extension": ".py",
   "mimetype": "text/x-python",
   "name": "python",
   "nbconvert_exporter": "python",
   "pygments_lexer": "ipython3",
   "version": "3.9.7"
  }
 },
 "nbformat": 4,
 "nbformat_minor": 4
}
